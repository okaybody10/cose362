{
 "cells": [
  {
   "cell_type": "markdown",
   "source": [
    "# Kernel Machines"
   ],
   "metadata": {
    "collapsed": false
   },
   "id": "fd74a6d777951fe2"
  },
  {
   "cell_type": "markdown",
   "source": [
    "## Test multiclass SVM - without kernel"
   ],
   "metadata": {
    "collapsed": false
   },
   "id": "527d8fe821bc476d"
  },
  {
   "cell_type": "markdown",
   "source": [],
   "metadata": {
    "collapsed": false
   },
   "id": "5b81b6e588dff277"
  },
  {
   "cell_type": "code",
   "execution_count": null,
   "outputs": [],
   "source": [
    "from metric import * \n",
    "\n",
    "from svm import *"
   ],
   "metadata": {
    "collapsed": false
   },
   "id": "a49659cef59e880a"
  },
  {
   "cell_type": "code",
   "execution_count": null,
   "outputs": [],
   "source": [
    "import torch\n",
    "import numpy as np\n",
    "import matplotlib.pyplot as plt\n",
    "from sklearn.model_selection import train_test_split\n",
    "\n",
    "\n",
    "# Toy data 생성\n",
    "np.random.seed(42)\n",
    "X = np.random.randn(1500, 2)\n",
    "y =  np.repeat([0, 1, 2], 500)\n",
    "\n",
    "X[y == 0] += -5.0\n",
    "X[y == 1] += 5.0\n",
    "X[y == 2] += 2.5\n",
    "\n",
    "# Data 분할\n",
    "X_train, X_test, y_train, y_test = train_test_split(X, y, test_size=0.2, random_state=42)\n",
    "\n",
    "X_train = torch.tensor(X_train, dtype=torch.float32)\n",
    "y_train = torch.tensor(y_train, dtype=torch.long)\n",
    "X_test = torch.tensor(X_test, dtype=torch.float32)\n",
    "y_test = torch.tensor(y_test, dtype=torch.long)\n",
    "\n",
    "def one_hot_list(n, k): # Helper - index to one-hot vector\n",
    "    tensor = n * [0]\n",
    "    tensor[k] = 1\n",
    "    return tensor\n",
    "\n",
    "y_train = [one_hot_list(3, y) for y in y_train]\n",
    "y_train = torch.tensor(y_train)\n",
    "\n",
    "y_test = [one_hot_list(3, y) for y in y_test]\n",
    "y_test = torch.tensor(y_test)\n",
    "\n",
    "###### 커널 ###\n",
    "def someRandomKernel(x):\n",
    "    return torch.cat((\n",
    "            x, torch.tensor(\n",
    "                 [x[0] + x[1], x[1] * x[1]] \n",
    "                )\n",
    "    ))\n",
    "identity = lambda x : x\n",
    "####\n",
    "\n",
    "kernelToMatrix = lambda x : torch.stack([someRandomKernel(x[i]) for i in range(x.size()[0])])\n",
    "print(\"X_train.size()\", X_train.size())\n",
    "print(\"X_train.kernel()\", kernelToMatrix(X_train).size())\n"
   ],
   "metadata": {
    "collapsed": false
   },
   "id": "a44b626bb95035f9"
  },
  {
   "cell_type": "code",
   "execution_count": null,
   "outputs": [],
   "source": [
    "\n",
    "#kernel을 바꿀 경우 input_dim을 바꿔야 한다\n",
    "model = KernelSVM(input_dim=2, num_classes=3, kernel=identity , C=1.0) \n",
    "model.train(X_train, y_train, epochs=1000)\n",
    "\n",
    "train_predictions = model.predict(X_train, using=KernelSVM.predict_index)\n",
    "test_predictions = model.predict(X_test, using=KernelSVM.predict_index)\n",
    "\n",
    "########################################################################\n",
    "###### make as index-based classified tensor to compare naturally ######\n",
    "y_test = torch.tensor([torch.argmax(y_test[i]) for i in range(y_test.size()[0])])\n",
    "y_train = torch.tensor([torch.argmax(y_train[i]) for i in range(y_train.size()[0])])\n",
    "########################################################################\n",
    "\n",
    "train_accuracy = torch.sum(train_predictions == y_train) / y_train.numel()\n",
    "test_accuracy = torch.sum(test_predictions == y_test) / y_test.numel()\n",
    "\n",
    "\n",
    "print(f\"Training Accuracy: {train_accuracy*100:.2f}%\")\n",
    "print(f\"Test Accuracy: {test_accuracy*100:.2f}%\")\n",
    "print(\"Precision - micro is \",precision_micro(num_classes=model.num_classes, predict=test_predictions, truth=y_test, using=REPRESENT.INDEX))\n",
    "print(\"Precision - macro is \",precision_macro(num_classes=model.num_classes, predict=test_predictions, truth=y_test, using=REPRESENT.INDEX))\n",
    "print(\"Recall - micro is \",recall_micro(num_classes=model.num_classes, predict=test_predictions, truth=y_test, using=REPRESENT.INDEX))\n",
    "print(\"Recall - micro is \",recall_macro(num_classes=model.num_classes, predict=test_predictions, truth=y_test, using=REPRESENT.INDEX))\n",
    "\n",
    "print(\"F1-score is \",f1score(num_classes=model.num_classes, predict=test_predictions, truth=y_test, precision=precision_macro, recall=recall_macro, using=REPRESENT.INDEX))\n",
    "\n",
    "X_test_np = X_test.detach().numpy() if torch.is_tensor(X_test) else X_test\n",
    "y_test_np = y_test.detach().numpy() if torch.is_tensor(y_test) else y_test\n",
    "test_predictions_np = test_predictions.detach().numpy() if torch.is_tensor(test_predictions) else test_predictions\n",
    "\n",
    "#y_test_np_indexed = np.argmax(y_test_np, axis=1)\n",
    "#test_predictions_np_indexed = np.argmax(test_predictions_np, axis=1)\n",
    "\n",
    "# 같은 클래스로 분류를 성공했음에도 색깔은 바꿔서 표시되는 이슈가 있음\n",
    "plt.scatter(X_test_np[:, 0], X_test_np[:, 1], c=y_test_np, cmap='jet', marker='o', label='True classes', alpha=0.5)\n",
    "plt.scatter(X_test_np[:, 0], X_test_np[:, 1], c=test_predictions_np, cmap='jet', marker='x', label='Predicted classes', alpha=0.5)\n",
    "plt.legend()\n",
    "plt.show()\n",
    "\n",
    "\n"
   ],
   "metadata": {
    "collapsed": false
   },
   "id": "87a6c88355ee11e3"
  },
  {
   "cell_type": "code",
   "execution_count": null,
   "outputs": [],
   "source": [
    "model.predict(torch.tensor([[3.0,3]]))"
   ],
   "metadata": {
    "collapsed": false
   },
   "id": "44f2c6d5eca311f4"
  },
  {
   "cell_type": "code",
   "execution_count": null,
   "outputs": [],
   "source": [
    "model.predict(torch.tensor([[3.0,3], [0.0,0], [-1.0,1]]), using=KernelSVM.predict_index)"
   ],
   "metadata": {
    "collapsed": false
   },
   "id": "683e3ac6f1fc73"
  }
 ],
 "metadata": {
  "kernelspec": {
   "display_name": "Python 3",
   "language": "python",
   "name": "python3"
  },
  "language_info": {
   "codemirror_mode": {
    "name": "ipython",
    "version": 2
   },
   "file_extension": ".py",
   "mimetype": "text/x-python",
   "name": "python",
   "nbconvert_exporter": "python",
   "pygments_lexer": "ipython2",
   "version": "2.7.6"
  }
 },
 "nbformat": 4,
 "nbformat_minor": 5
}
