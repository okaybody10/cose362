{
 "cells": [
  {
   "cell_type": "code",
   "execution_count": 1,
   "metadata": {},
   "outputs": [
    {
     "name": "stderr",
     "output_type": "stream",
     "text": [
      "/home/sung/anaconda3/envs/cose362/lib/python3.7/site-packages/tqdm/auto.py:21: TqdmWarning: IProgress not found. Please update jupyter and ipywidgets. See https://ipywidgets.readthedocs.io/en/stable/user_install.html\n",
      "  from .autonotebook import tqdm as notebook_tqdm\n"
     ]
    }
   ],
   "source": [
    "import torch\n",
    "import torch.nn.functional as F\n",
    "from torch import nn\n",
    "import typing"
   ]
  },
  {
   "cell_type": "code",
   "execution_count": 2,
   "metadata": {},
   "outputs": [],
   "source": [
    "batch_size = 32\n",
    "seq_size = 20\n",
    "num_classes = 31"
   ]
  },
  {
   "cell_type": "code",
   "execution_count": 15,
   "metadata": {},
   "outputs": [],
   "source": [
    "def _one_hot(labels: torch.Tensor, num_classes) -> torch.LongTensor:\n",
    "    return F.one_hot(labels, num_classes=num_classes) # One-hot vector\n",
    "\n",
    "def _one_hot_2(n, k):\n",
    "    tensor = torch.zeros(n, dtype=torch.long)\n",
    "    tensor[k] = 1\n",
    "    return tensor"
   ]
  },
  {
   "cell_type": "code",
   "execution_count": 4,
   "metadata": {},
   "outputs": [
    {
     "data": {
      "text/plain": [
       "tensor([[[0.6757, 0.0224, 0.2347, 0.2696, 0.5167],\n",
       "         [0.8076, 0.4949, 0.2992, 0.3418, 0.6117],\n",
       "         [0.0904, 0.4090, 0.3990, 0.7726, 0.1875],\n",
       "         [0.5338, 0.8050, 0.7884, 0.6412, 0.0589]]])"
      ]
     },
     "execution_count": 4,
     "metadata": {},
     "output_type": "execute_result"
    }
   ],
   "source": [
    "ans = torch.rand(size = (3, 4, 5))\n",
    "ans"
   ]
  },
  {
   "cell_type": "code",
   "execution_count": 5,
   "metadata": {},
   "outputs": [
    {
     "name": "stdout",
     "output_type": "stream",
     "text": [
      "tensor([[3, 1, 4, 3]]) torch.Size([1, 4, 1])\n"
     ]
    }
   ],
   "source": [
    "test = torch.randint(5, size = (3, 4))\n",
    "u_test = test.unsqueeze(-1)\n",
    "print(test, u_test.size())"
   ]
  },
  {
   "cell_type": "code",
   "execution_count": 6,
   "metadata": {},
   "outputs": [
    {
     "name": "stdout",
     "output_type": "stream",
     "text": [
      "True\n",
      "torch.Size([1, 4, 1])\n",
      "torch.Size([1, 4, 1])\n"
     ]
    }
   ],
   "source": [
    "out_1 = torch.gather(ans, dim = -1, index = u_test)\n",
    "out_2 = (ans * (_one_hot(test, 5))).sum(-1).unsqueeze(-1)\n",
    "print(torch.equal(out_1, out_2), out_1.size(), out_2.size(), sep = '\\n')\n",
    "out = out_1"
   ]
  },
  {
   "cell_type": "code",
   "execution_count": 7,
   "metadata": {},
   "outputs": [],
   "source": [
    "margins = torch.clamp(ans - out + 1.0, min=0)"
   ]
  },
  {
   "cell_type": "code",
   "execution_count": 8,
   "metadata": {},
   "outputs": [
    {
     "name": "stdout",
     "output_type": "stream",
     "text": [
      "torch.Size([1, 4, 5])\n",
      "torch.Size([1, 4, 5])\n",
      "True\n"
     ]
    }
   ],
   "source": [
    "margins_1 = margins.scatter(-1, u_test, 0)\n",
    "margins_2 = margins * (1 - _one_hot(test, 5))\n",
    "output = margins_1\n",
    "print(margins_1.size(), margins_2.size(), torch.equal(margins_1, margins_2), sep = '\\n')"
   ]
  },
  {
   "cell_type": "code",
   "execution_count": 16,
   "metadata": {},
   "outputs": [
    {
     "name": "stdout",
     "output_type": "stream",
     "text": [
      "tensor([0, 0, 3, 1])\n",
      "tensor([[1, 0, 0, 0, 0],\n",
      "        [1, 0, 0, 0, 0],\n",
      "        [0, 0, 0, 1, 0],\n",
      "        [0, 1, 0, 0, 0]])\n",
      "tensor([[1, 0, 0, 0, 0],\n",
      "        [1, 0, 0, 0, 0],\n",
      "        [0, 0, 0, 1, 0],\n",
      "        [0, 1, 0, 0, 0]])\n",
      "True\n"
     ]
    }
   ],
   "source": [
    "res1 = torch.stack([_one_hot_2(5, i) for i in torch.argmax(output, dim=-1)])\n",
    "res2 = _one_hot(torch.argmax(output, dim=-1), 5)\n",
    "print(torch.argmax(output, dim=-1), res1, res2, torch.equal(res1, res2), sep='\\n')"
   ]
  },
  {
   "cell_type": "code",
   "execution_count": 10,
   "metadata": {},
   "outputs": [
    {
     "name": "stdout",
     "output_type": "stream",
     "text": [
      "torch.Size([32, 20])\n",
      "tensor([[30, 15,  6, 21, 29,  6,  4,  2, 21,  2, 15, 26,  3, 15, 16, 28, 23,  7,\n",
      "         25,  7],\n",
      "        [28, 12, 27, 29, 17,  6,  2, 27, 11, 30,  3, 15, 18, 19,  0,  2, 12,  6,\n",
      "         16,  1],\n",
      "        [25, 16, 17,  2, 23, 14, 24, 23, 15,  0,  8, 13,  7, 21, 29,  7, 20,  6,\n",
      "          3, 11],\n",
      "        [ 3, 22,  5, 23, 29,  0, 16,  8, 18, 20, 11, 29,  9, 13, 12, 18, 28, 14,\n",
      "         15, 22],\n",
      "        [24, 26,  7, 10, 29, 19, 19, 11, 14, 26,  6, 12,  5, 19, 28, 27,  6, 29,\n",
      "         14, 24],\n",
      "        [ 2,  5, 19, 29, 26, 15, 18, 10,  4, 21, 28,  6, 10, 14, 14,  7, 11,  7,\n",
      "         30, 13],\n",
      "        [18,  2, 28, 19,  8, 29, 25, 26, 21,  0,  0, 17, 20,  2,  8, 26,  3, 16,\n",
      "          9, 14],\n",
      "        [ 8,  2,  9, 13, 21, 21, 28, 12,  4,  3,  5, 11, 12, 13, 25,  6, 28,  7,\n",
      "         17,  6],\n",
      "        [19, 18, 16,  5,  4, 29,  5,  4,  2,  8,  3, 23,  5, 15, 12,  4, 16, 27,\n",
      "          3, 18],\n",
      "        [13, 21, 16,  7,  0, 30,  8, 15, 22, 28, 15, 23,  5, 27, 22, 22, 19,  8,\n",
      "         14,  7],\n",
      "        [20, 27, 27, 12,  3, 19, 19, 16, 18, 21, 28,  1,  3, 28,  7, 14,  8, 14,\n",
      "         12,  6],\n",
      "        [ 5, 14,  8, 14, 28, 16, 27, 23, 13, 21,  1, 16, 12, 18,  1, 17,  1, 26,\n",
      "         26, 27],\n",
      "        [24,  7,  8,  0, 19,  1, 25, 20, 12, 28,  3, 12, 15, 11, 27,  7,  6, 10,\n",
      "         12, 26],\n",
      "        [28, 17,  6, 14, 19, 16,  3, 20, 18, 27,  0,  5, 16, 13,  9, 22, 21, 20,\n",
      "         19,  8],\n",
      "        [28, 29,  2, 12, 26, 27, 29,  8, 28,  8, 29,  9, 15, 13, 13, 11, 25, 14,\n",
      "          4, 27],\n",
      "        [25,  9,  0,  4, 15, 27, 23,  7, 14, 24, 18,  6, 26, 19, 24,  2, 12, 25,\n",
      "          9, 21],\n",
      "        [ 5, 12, 18, 29, 26,  3, 28,  8,  7, 12, 17,  4,  8, 19, 22, 30,  7,  5,\n",
      "         16, 24],\n",
      "        [ 1, 27, 22, 24, 23, 12, 16, 20, 21, 24, 20, 24, 29, 20, 24,  4, 28, 16,\n",
      "         24,  6],\n",
      "        [ 7,  2,  1,  3, 18, 12, 15, 30, 22, 29, 14, 27,  7, 30, 22,  1,  8, 20,\n",
      "         15, 28],\n",
      "        [15, 29, 20,  2,  5, 29, 27, 14, 18,  7,  9, 12, 17,  5, 14,  7, 30, 21,\n",
      "         20, 25],\n",
      "        [ 5, 27, 17, 27, 17,  1, 25,  4,  2, 22, 26, 13, 11, 13, 26,  1, 26, 12,\n",
      "         10, 25],\n",
      "        [19,  5,  4,  8,  9,  3, 17, 13, 16, 21, 13, 27,  8, 15, 30, 16, 19,  1,\n",
      "         25, 14],\n",
      "        [27, 12,  3, 21, 27,  6, 19,  8,  0, 29, 12, 25, 21, 22, 15, 12, 10,  4,\n",
      "          0, 17],\n",
      "        [21,  2, 16, 14, 23,  7, 30,  0,  2,  4, 17, 30, 13, 23, 22, 13, 22, 18,\n",
      "         22, 25],\n",
      "        [11, 30, 21, 11, 13, 22, 13, 11,  6, 26, 19,  2,  6, 29, 16, 15,  2, 15,\n",
      "         23, 12],\n",
      "        [15, 11, 10, 18,  9,  1,  4, 12,  1,  9, 11,  2, 23, 13, 27,  4, 25,  7,\n",
      "         24, 29],\n",
      "        [ 8,  8, 11,  2,  9, 16, 12, 15, 24, 21, 18,  6, 25, 11,  7, 21,  0, 19,\n",
      "         13, 16],\n",
      "        [20,  3, 25, 23,  2, 18,  2, 28, 25, 13,  2, 10, 20,  3, 15, 17, 20,  2,\n",
      "         22, 26],\n",
      "        [ 5, 23, 30, 30, 22, 24, 28, 29, 28, 23, 14, 28, 28,  7, 11, 11, 26, 13,\n",
      "          2, 13],\n",
      "        [28, 25,  2, 26,  0,  0, 28, 29, 15, 18, 27, 15,  7, 25, 13, 15, 26, 21,\n",
      "          1, 15],\n",
      "        [29, 24, 10, 30, 14, 29, 23, 22,  2,  1, 21, 17,  6, 11, 20, 25,  4, 10,\n",
      "         25, 28],\n",
      "        [ 5,  5,  1, 20, 18, 29,  3,  0, 21, 15, 15,  3, 16,  7, 28,  2,  5,  8,\n",
      "          5, 12]])\n",
      "tensor([301, 281, 284, 315, 355, 289, 291, 251, 236, 322, 303, 314, 273, 301,\n",
      "        357, 310, 300, 385, 311, 326, 310, 283, 290, 324, 303, 255, 262, 296,\n",
      "        395, 336, 351, 218])\n"
     ]
    }
   ],
   "source": [
    "labels = torch.randint(num_classes, size = (batch_size, seq_size))\n",
    "print(labels.size(), labels, labels.sum(-1), sep='\\n')"
   ]
  },
  {
   "cell_type": "code",
   "execution_count": 11,
   "metadata": {},
   "outputs": [
    {
     "name": "stdout",
     "output_type": "stream",
     "text": [
      "torch.Size([32, 20, 31])\n",
      "tensor([[[0, 0, 0,  ..., 0, 0, 1],\n",
      "         [0, 0, 0,  ..., 0, 0, 0],\n",
      "         [0, 0, 0,  ..., 0, 0, 0],\n",
      "         ...,\n",
      "         [0, 0, 0,  ..., 0, 0, 0],\n",
      "         [0, 0, 0,  ..., 0, 0, 0],\n",
      "         [0, 0, 0,  ..., 0, 0, 0]],\n",
      "\n",
      "        [[0, 0, 0,  ..., 1, 0, 0],\n",
      "         [0, 0, 0,  ..., 0, 0, 0],\n",
      "         [0, 0, 0,  ..., 0, 0, 0],\n",
      "         ...,\n",
      "         [0, 0, 0,  ..., 0, 0, 0],\n",
      "         [0, 0, 0,  ..., 0, 0, 0],\n",
      "         [0, 1, 0,  ..., 0, 0, 0]],\n",
      "\n",
      "        [[0, 0, 0,  ..., 0, 0, 0],\n",
      "         [0, 0, 0,  ..., 0, 0, 0],\n",
      "         [0, 0, 0,  ..., 0, 0, 0],\n",
      "         ...,\n",
      "         [0, 0, 0,  ..., 0, 0, 0],\n",
      "         [0, 0, 0,  ..., 0, 0, 0],\n",
      "         [0, 0, 0,  ..., 0, 0, 0]],\n",
      "\n",
      "        ...,\n",
      "\n",
      "        [[0, 0, 0,  ..., 1, 0, 0],\n",
      "         [0, 0, 0,  ..., 0, 0, 0],\n",
      "         [0, 0, 1,  ..., 0, 0, 0],\n",
      "         ...,\n",
      "         [0, 0, 0,  ..., 0, 0, 0],\n",
      "         [0, 1, 0,  ..., 0, 0, 0],\n",
      "         [0, 0, 0,  ..., 0, 0, 0]],\n",
      "\n",
      "        [[0, 0, 0,  ..., 0, 1, 0],\n",
      "         [0, 0, 0,  ..., 0, 0, 0],\n",
      "         [0, 0, 0,  ..., 0, 0, 0],\n",
      "         ...,\n",
      "         [0, 0, 0,  ..., 0, 0, 0],\n",
      "         [0, 0, 0,  ..., 0, 0, 0],\n",
      "         [0, 0, 0,  ..., 1, 0, 0]],\n",
      "\n",
      "        [[0, 0, 0,  ..., 0, 0, 0],\n",
      "         [0, 0, 0,  ..., 0, 0, 0],\n",
      "         [0, 1, 0,  ..., 0, 0, 0],\n",
      "         ...,\n",
      "         [0, 0, 0,  ..., 0, 0, 0],\n",
      "         [0, 0, 0,  ..., 0, 0, 0],\n",
      "         [0, 0, 0,  ..., 0, 0, 0]]])\n"
     ]
    }
   ],
   "source": [
    "res = F.one_hot(labels, num_classes= num_classes)\n",
    "print(res.size(), res, sep='\\n')"
   ]
  },
  {
   "cell_type": "code",
   "execution_count": 12,
   "metadata": {},
   "outputs": [
    {
     "name": "stdout",
     "output_type": "stream",
     "text": [
      "torch.Size([10, 3, 5]) torch.Size([10, 3, 5]) True\n"
     ]
    }
   ],
   "source": [
    "# # vector x vector\n",
    "# tensor1 = torch.randn(3)\n",
    "# tensor2 = torch.randn(3)\n",
    "# torch.matmul(tensor1, tensor2).size()\n",
    "# # matrix x vector\n",
    "# tensor1 = torch.randn(3, 4)\n",
    "# tensor2 = torch.randn(4)\n",
    "# torch.matmul(tensor1, tensor2).size()\n",
    "# # batched matrix x broadcasted vector\n",
    "# tensor1 = torch.randn(10, 3, 4)\n",
    "# tensor2 = torch.randn(4)\n",
    "# torch.matmul(tensor1, tensor2).size()\n",
    "# batched matrix x batched matrix\n",
    "# tensor1 = torch.randn(10, 3, 4)\n",
    "# tensor2 = torch.randn(10, 4, 5)\n",
    "# (tensor1@tensor2).size()\n",
    "# batched matrix x broadcasted matrix\n",
    "tensor1 = torch.randn(10, 3, 4)\n",
    "tensor2 = torch.randn(4, 5)\n",
    "print(torch.matmul(tensor1, tensor2).size(), (tensor1@tensor2).size(), torch.equal(torch.matmul(tensor1, tensor2), tensor1@tensor2))"
   ]
  }
 ],
 "metadata": {
  "kernelspec": {
   "display_name": "cose362",
   "language": "python",
   "name": "python3"
  },
  "language_info": {
   "codemirror_mode": {
    "name": "ipython",
    "version": 3
   },
   "file_extension": ".py",
   "mimetype": "text/x-python",
   "name": "python",
   "nbconvert_exporter": "python",
   "pygments_lexer": "ipython3",
   "version": "3.7.12"
  }
 },
 "nbformat": 4,
 "nbformat_minor": 2
}
